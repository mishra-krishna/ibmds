{
 "cells": [
  {
   "cell_type": "code",
   "execution_count": null,
   "id": "40109400-af2c-4da6-826d-70dc73d016c9",
   "metadata": {},
   "outputs": [],
   "source": []
  },
  {
   "cell_type": "markdown",
   "id": "31ca45c7-8f87-49ec-b2b6-89150bc6f64c",
   "metadata": {},
   "source": [
    "# Data Science Tools and Ecosystem "
   ]
  },
  {
   "cell_type": "markdown",
   "id": "21e88724-3b4b-4d6b-906b-d66d3b8319c3",
   "metadata": {},
   "source": [
    "In this notebook, Data Science Tools and Ecosystem are summarized"
   ]
  },
  {
   "cell_type": "markdown",
   "id": "6f168a5c-ab9a-4c2d-80c1-f9f9d1d00f27",
   "metadata": {},
   "source": [
    "Some of the popular languages that Data Scientists use are:\n",
    "1. Python\n",
    "2. Julia\n",
    "3. R\n",
    "4. SQL"
   ]
  },
  {
   "cell_type": "markdown",
   "id": "d2af6f62-88f2-419a-a1a0-9b8c4d0dfd47",
   "metadata": {},
   "source": [
    "Some of the commonly used libraries used by Data Scientists include:\n",
    "1. Matplotlib\n",
    "2. Numpy\n",
    "3. Seaborn\n",
    "4. Pandas"
   ]
  },
  {
   "cell_type": "markdown",
   "id": "9909ff5c-6154-45e8-af7f-27d23cff6b88",
   "metadata": {},
   "source": [
    "# Data Science Tools\n",
    "|  |\n",
    "|--------|\n",
    "| R Studio |\n",
    "| Apache Spark |\n",
    "| Hadoop |\n"
   ]
  },
  {
   "cell_type": "markdown",
   "id": "026a46eb-64bc-4feb-a796-4e4040c91682",
   "metadata": {},
   "source": [
    "### Below are a few examples of evaluating arithmetic expressions in Python.\n"
   ]
  },
  {
   "cell_type": "code",
   "execution_count": 2,
   "id": "8f2f2760-a164-4bc0-ac30-4a4b1723f32d",
   "metadata": {
    "tags": []
   },
   "outputs": [
    {
     "data": {
      "text/plain": [
       "17"
      ]
     },
     "execution_count": 2,
     "metadata": {},
     "output_type": "execute_result"
    }
   ],
   "source": [
    "# This a simple arithmetic expression to mutiply then add integers\n",
    "(3*4)+5"
   ]
  },
  {
   "cell_type": "code",
   "execution_count": 1,
   "id": "7b57a536-3b21-46e3-8f74-a8e1aa1f5758",
   "metadata": {
    "tags": []
   },
   "outputs": [
    {
     "data": {
      "text/plain": [
       "3.3333333333333335"
      ]
     },
     "execution_count": 1,
     "metadata": {},
     "output_type": "execute_result"
    }
   ],
   "source": [
    "#This will convert 200 minutes to hours by diving by 60\n",
    "200/60"
   ]
  },
  {
   "cell_type": "markdown",
   "id": "9508857a-69de-4d14-bb49-5c893fe2c241",
   "metadata": {},
   "source": [
    "//Objectives//\n",
    "* List Popular Languages for data science\n",
    "* List Popular tools for data science\n",
    "* Learn Jupyter notebooks application for data science\n"
   ]
  },
  {
   "cell_type": "markdown",
   "id": "d4069fab-d292-49d1-b631-15568fa0abc9",
   "metadata": {},
   "source": [
    "## Author\n",
    "Krishna Misra"
   ]
  },
  {
   "cell_type": "code",
   "execution_count": null,
   "id": "712fb3bb-f5b0-45bf-add6-5dfa7f0e6381",
   "metadata": {},
   "outputs": [],
   "source": []
  }
 ],
 "metadata": {
  "kernelspec": {
   "display_name": "Python",
   "language": "python",
   "name": "conda-env-python-py"
  },
  "language_info": {
   "codemirror_mode": {
    "name": "ipython",
    "version": 3
   },
   "file_extension": ".py",
   "mimetype": "text/x-python",
   "name": "python",
   "nbconvert_exporter": "python",
   "pygments_lexer": "ipython3",
   "version": "3.7.12"
  }
 },
 "nbformat": 4,
 "nbformat_minor": 5
}
